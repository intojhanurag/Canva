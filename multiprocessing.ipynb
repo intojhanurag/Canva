{
 "cells": [
  {
   "cell_type": "code",
   "execution_count": null,
   "metadata": {},
   "outputs": [],
   "source": [
    "import multiprocessing\n",
    "import multiprocessing.process\n",
    "import time\n",
    "def square_number():\n",
    "    for i in range(5):\n",
    "    time.sleep(1)\n",
    "    print(f\"Square:{i*i}\")\n",
    "\n",
    "def cube_number():\n",
    "    for i in range(5):\n",
    "    time.sleep(1.5)\n",
    "    print(f\"cube:{i*i*i}\")\n",
    "\n",
    "p1=multiprocessing.process(target=square_number)\n",
    "\n",
    "p2=multiprocessing.process(target=square_number)"
   ]
  },
  {
   "cell_type": "markdown",
   "metadata": {},
   "source": [
    "import multiprocessing\n",
    "import time\n",
    "\n",
    "# Function to print squares of numbers\n",
    "def square_number():\n",
    "    for i in range(5):\n",
    "        time.sleep(1)  # Pause for 1 second before printing the next square\n",
    "        print(f\"Square: {i * i}\")\n",
    "\n",
    "# Function to print cubes of numbers\n",
    "def cube_number():\n",
    "    for i in range(5):\n",
    "        time.sleep(1.5)  # Pause for 1.5 seconds before printing the next cube\n",
    "        print(f\"Cube: {i * i * i}\")\n",
    "\n",
    "# Creating two processes for each function\n",
    "if __name__ == '__main__':\n",
    "    # Create process for calculating squares\n",
    "    p1 = multiprocessing.Process(target=square_number)\n",
    "    \n",
    "    "
   ]
  },
  {
   "cell_type": "code",
   "execution_count": 1,
   "metadata": {},
   "outputs": [
    {
     "name": "stdout",
     "output_type": "stream",
     "text": [
      "Both processes completed.\n"
     ]
    }
   ],
   "source": [
    "import multiprocessing\n",
    "import time\n",
    "\n",
    "# Function to print squares of numbers\n",
    "def square_number():\n",
    "    for i in range(5):\n",
    "        time.sleep(1)  # Pause for 1 second before printing the next square\n",
    "        print(f\"Square: {i * i}\")\n",
    "\n",
    "# Function to print cubes of numbers\n",
    "def cube_number():\n",
    "    for i in range(5):\n",
    "        time.sleep(1.5)  # Pause for 1.5 seconds before printing the next cube\n",
    "        print(f\"Cube: {i * i * i}\")\n",
    "\n",
    "# Creating two processes for each function\n",
    "if __name__ == '__main__':\n",
    "    # Create process for calculating squares\n",
    "    p1 = multiprocessing.Process(target=square_number)\n",
    "    \n",
    "    # Create process for calculating cubes\n",
    "    p2 = multiprocessing.Process(target=cube_number)\n",
    "\n",
    "    # Start both processes\n",
    "    p1.start()\n",
    "    p2.start()\n",
    "\n",
    "    # Wait for both processes to finish\n",
    "    p1.join()\n",
    "    p2.join()\n",
    "\n",
    "    print(\"Both processes completed.\")\n"
   ]
  }
 ],
 "metadata": {
  "kernelspec": {
   "display_name": "Python 3",
   "language": "python",
   "name": "python3"
  },
  "language_info": {
   "codemirror_mode": {
    "name": "ipython",
    "version": 3
   },
   "file_extension": ".py",
   "mimetype": "text/x-python",
   "name": "python",
   "nbconvert_exporter": "python",
   "pygments_lexer": "ipython3",
   "version": "3.12.0"
  }
 },
 "nbformat": 4,
 "nbformat_minor": 2
}
