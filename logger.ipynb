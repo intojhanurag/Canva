{
 "cells": [
  {
   "cell_type": "code",
   "execution_count": 1,
   "metadata": {},
   "outputs": [],
   "source": [
    "import logging\n",
    "\n",
    "logger1=logging.getLogger(\"module1\")\n",
    "logger2=logging.getLogger(\"module2\")\n",
    "logger2.setLevel(logging.WARNING)\n",
    "\n",
    "logging.basicConfig(\n",
    "    level=logging.DEBUG, \n",
    "    format='%(asctime)s - %(levelname)s - %(message)s',\n",
    "    datefmt='%Y-%m-%d %H:%M:%S',\n",
    "    handlers=[\n",
    "        logging.FileHandler(\"app1.log\"),\n",
    "        logging.StreamHandler()\n",
    "    ]\n",
    ")\n",
    "\n",
    "\n",
    "logger=logging.getLogger(\"AirthmeticApp\")\n",
    "\n",
    "def add(a,b):\n",
    "    result=a+b\n",
    "    logger.debug(f\"Adding {a}+{b}={result}\")\n",
    "    return result\n",
    "\n",
    "def division(a,b):\n",
    "    try:\n",
    "        result=a/b\n",
    "        logger.debug(f\"Dividing {a}/{b}={result}\")\n",
    "        return result\n",
    "    except ZeroDivisionError:\n",
    "        logger.error(\"Divison by zero error\")\n",
    "        return None\n",
    "    \n",
    "\n",
    "add(10,15)\n",
    "subtract(15,10)\n",
    "multiply(10,20)\n",
    "divide(20/10)\n",
    "\n"
   ]
  }
 ],
 "metadata": {
  "kernelspec": {
   "display_name": "Python 3",
   "language": "python",
   "name": "python3"
  },
  "language_info": {
   "codemirror_mode": {
    "name": "ipython",
    "version": 3
   },
   "file_extension": ".py",
   "mimetype": "text/x-python",
   "name": "python",
   "nbconvert_exporter": "python",
   "pygments_lexer": "ipython3",
   "version": "3.12.0"
  }
 },
 "nbformat": 4,
 "nbformat_minor": 2
}
