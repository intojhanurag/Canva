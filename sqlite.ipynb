{
 "cells": [
  {
   "cell_type": "code",
   "execution_count": 1,
   "metadata": {},
   "outputs": [],
   "source": [
    "import sqlite3"
   ]
  },
  {
   "cell_type": "code",
   "execution_count": 2,
   "metadata": {},
   "outputs": [
    {
     "data": {
      "text/plain": [
       "<sqlite3.Connection at 0x27c6e8fc130>"
      ]
     },
     "execution_count": 2,
     "metadata": {},
     "output_type": "execute_result"
    }
   ],
   "source": [
    "connection=sqlite3.connect('example.db')\n",
    "connection"
   ]
  },
  {
   "cell_type": "code",
   "execution_count": 3,
   "metadata": {},
   "outputs": [],
   "source": [
    "cursor=connection.cursor()"
   ]
  },
  {
   "cell_type": "code",
   "execution_count": 5,
   "metadata": {},
   "outputs": [],
   "source": [
    "cursor.execute('''CREATE TABLE IF NOT EXISTS employees (\n",
    "               id INTEGER PRIMARY KEY,\n",
    "               name TEXT NOT NULL,\n",
    "               age INTEGER,\n",
    "               department TEXT)'''\n",
    "               )\n",
    "\n",
    "connection.commit()\n"
   ]
  },
  {
   "cell_type": "code",
   "execution_count": 6,
   "metadata": {},
   "outputs": [
    {
     "name": "stdout",
     "output_type": "stream",
     "text": [
      "(1, 'John Doe', 28, 'HR')\n",
      "(2, 'Jane Smith', 32, 'Finance')\n",
      "(3, 'Alice Johnson', 24, 'IT')\n",
      "(4, 'Bob Brown', 30, 'Marketing')\n"
     ]
    }
   ],
   "source": [
    "import sqlite3\n",
    "\n",
    "# Step 1: Connect to the database\n",
    "connection = sqlite3.connect('employees.db')\n",
    "\n",
    "# Step 2: Create a cursor object\n",
    "cursor = connection.cursor()\n",
    "\n",
    "# Step 3: Execute the SQL query to create the table (if it doesn't exist already)\n",
    "cursor.execute('''CREATE TABLE IF NOT EXISTS employees (\n",
    "               id INTEGER PRIMARY KEY,\n",
    "               name TEXT NOT NULL,\n",
    "               age INTEGER,\n",
    "               department TEXT)'''\n",
    "               )\n",
    "\n",
    "# Step 4: Insert data into the table\n",
    "cursor.execute(\"INSERT INTO employees (id, name, age, department) VALUES (1, 'John Doe', 28, 'HR')\")\n",
    "cursor.execute(\"INSERT INTO employees (id, name, age, department) VALUES (2, 'Jane Smith', 32, 'Finance')\")\n",
    "cursor.execute(\"INSERT INTO employees (id, name, age, department) VALUES (3, 'Alice Johnson', 24, 'IT')\")\n",
    "cursor.execute(\"INSERT INTO employees (id, name, age, department) VALUES (4, 'Bob Brown', 30, 'Marketing')\")\n",
    "\n",
    "# Step 5: Commit the changes to save the data\n",
    "connection.commit()\n",
    "\n",
    "# Step 6: Retrieve and print the data row by row\n",
    "cursor.execute(\"SELECT * FROM employees\")\n",
    "rows = cursor.fetchall()  # Fetch all rows\n",
    "\n",
    "# Step 7: Print each row\n",
    "for row in rows:\n",
    "    print(row)\n",
    "\n",
    "# Step 8: Close the connection to free up resources\n",
    "connection.close()\n"
   ]
  }
 ],
 "metadata": {
  "kernelspec": {
   "display_name": "Python 3",
   "language": "python",
   "name": "python3"
  },
  "language_info": {
   "codemirror_mode": {
    "name": "ipython",
    "version": 3
   },
   "file_extension": ".py",
   "mimetype": "text/x-python",
   "name": "python",
   "nbconvert_exporter": "python",
   "pygments_lexer": "ipython3",
   "version": "3.12.0"
  }
 },
 "nbformat": 4,
 "nbformat_minor": 2
}
